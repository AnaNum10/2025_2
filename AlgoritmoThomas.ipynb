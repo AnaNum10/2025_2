{
  "nbformat": 4,
  "nbformat_minor": 0,
  "metadata": {
    "colab": {
      "provenance": [],
      "authorship_tag": "ABX9TyP04wxl+mWp4VtlAs4GfZKS",
      "include_colab_link": true
    },
    "kernelspec": {
      "name": "python3",
      "display_name": "Python 3"
    },
    "language_info": {
      "name": "python"
    }
  },
  "cells": [
    {
      "cell_type": "markdown",
      "metadata": {
        "id": "view-in-github",
        "colab_type": "text"
      },
      "source": [
        "<a href=\"https://colab.research.google.com/github/AnaNum10/2025_2/blob/main/AlgoritmoThomas.ipynb\" target=\"_parent\"><img src=\"https://colab.research.google.com/assets/colab-badge.svg\" alt=\"Open In Colab\"/></a>"
      ]
    },
    {
      "cell_type": "code",
      "execution_count": 1,
      "metadata": {
        "id": "x9AQKie9rIri"
      },
      "outputs": [],
      "source": [
        "import numpy as np\n",
        "from numpy import linalg as LA"
      ]
    },
    {
      "cell_type": "code",
      "source": [
        "# Tamaño de la matriz\n",
        "n = 5\n",
        "\n",
        "# Crear la diagonal principal\n",
        "DP=2*np.ones(n)\n",
        "diagonal_principal = np.diag(DP)\n",
        "\n",
        "# Crear la diagonal superior\n",
        "DS=-np.ones(n-1)\n",
        "diagonal_superior = np.diag(DS, k=1)\n",
        "\n",
        "# Crear la diagonal inferior\n",
        "DI=-np.ones(n-1)\n",
        "diagonal_inferior = np.diag(DI, k=-1)\n",
        "\n",
        "# Sumar las tres diagonales para obtener la matriz tribanda\n",
        "matriz_tribanda = diagonal_principal + diagonal_superior + diagonal_inferior\n",
        "print(matriz_tribanda)"
      ],
      "metadata": {
        "colab": {
          "base_uri": "https://localhost:8080/"
        },
        "id": "YIdXxL_tsQIQ",
        "outputId": "16e2f9a7-7873-4096-e7d8-6fb6bc298422"
      },
      "execution_count": 2,
      "outputs": [
        {
          "output_type": "stream",
          "name": "stdout",
          "text": [
            "[[ 2. -1.  0.  0.  0.]\n",
            " [-1.  2. -1.  0.  0.]\n",
            " [ 0. -1.  2. -1.  0.]\n",
            " [ 0.  0. -1.  2. -1.]\n",
            " [ 0.  0.  0. -1.  2.]]\n"
          ]
        }
      ]
    },
    {
      "cell_type": "code",
      "source": [
        "from scipy.linalg import lu\n",
        "P, L, U = lu(matriz_tribanda)\n",
        "U"
      ],
      "metadata": {
        "colab": {
          "base_uri": "https://localhost:8080/"
        },
        "id": "MfUWiqGPvQyq",
        "outputId": "6d08ffd6-eecc-45a0-bb6c-f63d98fe2205"
      },
      "execution_count": 3,
      "outputs": [
        {
          "output_type": "execute_result",
          "data": {
            "text/plain": [
              "array([[ 2.        , -1.        ,  0.        ,  0.        ,  0.        ],\n",
              "       [ 0.        ,  1.5       , -1.        ,  0.        ,  0.        ],\n",
              "       [ 0.        ,  0.        ,  1.33333333, -1.        ,  0.        ],\n",
              "       [ 0.        ,  0.        ,  0.        ,  1.25      , -1.        ],\n",
              "       [ 0.        ,  0.        ,  0.        ,  0.        ,  1.2       ]])"
            ]
          },
          "metadata": {},
          "execution_count": 3
        }
      ]
    },
    {
      "cell_type": "code",
      "source": [
        "def Thomas(DP,DS,DI):\n",
        "  n=len(DP)\n",
        "  for i in range(1,n-1):\n",
        "    DP[i]=DP[i]-(DI[i-1]/DP[i-1])*DS[i-1]\n",
        "\n",
        "  return DP"
      ],
      "metadata": {
        "id": "kcY5dqOztbrE"
      },
      "execution_count": 4,
      "outputs": []
    },
    {
      "cell_type": "code",
      "source": [
        "Thomas(DP,DS,DI)"
      ],
      "metadata": {
        "colab": {
          "base_uri": "https://localhost:8080/"
        },
        "id": "xIkeUfDUuTSV",
        "outputId": "5b5f6b69-526d-4257-ce44-3830e6fdc378"
      },
      "execution_count": 5,
      "outputs": [
        {
          "output_type": "execute_result",
          "data": {
            "text/plain": [
              "array([2.        , 1.5       , 1.33333333, 1.25      , 2.        ])"
            ]
          },
          "metadata": {},
          "execution_count": 5
        }
      ]
    },
    {
      "cell_type": "code",
      "source": [],
      "metadata": {
        "id": "d-gSi3CPuZ_D"
      },
      "execution_count": 5,
      "outputs": []
    }
  ]
}