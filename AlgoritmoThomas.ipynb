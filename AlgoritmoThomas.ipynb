{
  "nbformat": 4,
  "nbformat_minor": 0,
  "metadata": {
    "colab": {
      "provenance": [],
      "authorship_tag": "ABX9TyOZIj0i0L1FTlmIRNOf78fQ",
      "include_colab_link": true
    },
    "kernelspec": {
      "name": "python3",
      "display_name": "Python 3"
    },
    "language_info": {
      "name": "python"
    }
  },
  "cells": [
    {
      "cell_type": "markdown",
      "metadata": {
        "id": "view-in-github",
        "colab_type": "text"
      },
      "source": [
        "<a href=\"https://colab.research.google.com/github/AnaNum10/2025_2/blob/main/AlgoritmoThomas.ipynb\" target=\"_parent\"><img src=\"https://colab.research.google.com/assets/colab-badge.svg\" alt=\"Open In Colab\"/></a>"
      ]
    },
    {
      "cell_type": "code",
      "execution_count": 1,
      "metadata": {
        "id": "x9AQKie9rIri"
      },
      "outputs": [],
      "source": [
        "import numpy as np\n",
        "from numpy import linalg as LA"
      ]
    },
    {
      "cell_type": "code",
      "source": [
        "# Tamaño de la matriz\n",
        "n = 5\n",
        "\n",
        "# Crear la diagonal principal\n",
        "DP=2*np.ones(n)\n",
        "diagonal_principal = np.diag(DP)\n",
        "\n",
        "# Crear la diagonal superior\n",
        "DS=-np.ones(n-1)\n",
        "diagonal_superior = np.diag(DS, k=1)\n",
        "\n",
        "# Crear la diagonal inferior\n",
        "DI=-np.ones(n-1)\n",
        "diagonal_inferior = np.diag(DI, k=-1)\n",
        "\n",
        "# Sumar las tres diagonales para obtener la matriz tribanda\n",
        "matriz_tribanda = diagonal_principal + diagonal_superior + diagonal_inferior\n",
        "print(matriz_tribanda)\n",
        "\n",
        "b=np.ones(n)"
      ],
      "metadata": {
        "colab": {
          "base_uri": "https://localhost:8080/"
        },
        "id": "YIdXxL_tsQIQ",
        "outputId": "3a5cfe46-d153-40bb-afb1-026f5f1d737e"
      },
      "execution_count": 2,
      "outputs": [
        {
          "output_type": "stream",
          "name": "stdout",
          "text": [
            "[[ 2. -1.  0.  0.  0.]\n",
            " [-1.  2. -1.  0.  0.]\n",
            " [ 0. -1.  2. -1.  0.]\n",
            " [ 0.  0. -1.  2. -1.]\n",
            " [ 0.  0.  0. -1.  2.]]\n"
          ]
        }
      ]
    },
    {
      "cell_type": "code",
      "source": [
        "from scipy.linalg import lu\n",
        "P, L, U = lu(matriz_tribanda)\n",
        "U"
      ],
      "metadata": {
        "colab": {
          "base_uri": "https://localhost:8080/"
        },
        "id": "MfUWiqGPvQyq",
        "outputId": "15591dbb-e4ab-4338-be33-fae6e3db03ca"
      },
      "execution_count": 3,
      "outputs": [
        {
          "output_type": "execute_result",
          "data": {
            "text/plain": [
              "array([[ 2.        , -1.        ,  0.        ,  0.        ,  0.        ],\n",
              "       [ 0.        ,  1.5       , -1.        ,  0.        ,  0.        ],\n",
              "       [ 0.        ,  0.        ,  1.33333333, -1.        ,  0.        ],\n",
              "       [ 0.        ,  0.        ,  0.        ,  1.25      , -1.        ],\n",
              "       [ 0.        ,  0.        ,  0.        ,  0.        ,  1.2       ]])"
            ]
          },
          "metadata": {},
          "execution_count": 3
        }
      ]
    },
    {
      "cell_type": "code",
      "source": [
        "def Thomas(DP,DS,DI,b):\n",
        "  n=len(DP)\n",
        "  x=np.zeros(n)\n",
        "\n",
        "  for i in range(1,n):\n",
        "    DP[i]=DP[i]-(DI[i-1]/DP[i-1])*DS[i-1]\n",
        "\n",
        "\n",
        "  x[-1]=b[-1]/DP[-1]\n",
        "\n",
        "  for i in range(n-2,-1,-1):\n",
        "    x[i]=(b[i]-DS[i]*x[i+1])/DP[i]\n",
        "  return x"
      ],
      "metadata": {
        "id": "kcY5dqOztbrE"
      },
      "execution_count": 4,
      "outputs": []
    },
    {
      "cell_type": "code",
      "source": [
        "Thomas(DP,DS,DI,b)"
      ],
      "metadata": {
        "colab": {
          "base_uri": "https://localhost:8080/"
        },
        "id": "xIkeUfDUuTSV",
        "outputId": "d926d568-af42-40c4-ad83-e4d7d39c2303"
      },
      "execution_count": 5,
      "outputs": [
        {
          "output_type": "execute_result",
          "data": {
            "text/plain": [
              "array([1.45      , 1.9       , 1.85      , 1.46666667, 0.83333333])"
            ]
          },
          "metadata": {},
          "execution_count": 5
        }
      ]
    },
    {
      "cell_type": "code",
      "source": [
        "LA.solve(U,b)"
      ],
      "metadata": {
        "id": "d-gSi3CPuZ_D",
        "colab": {
          "base_uri": "https://localhost:8080/"
        },
        "outputId": "c612e278-6e51-4b99-cc70-266d4cb91c55"
      },
      "execution_count": 6,
      "outputs": [
        {
          "output_type": "execute_result",
          "data": {
            "text/plain": [
              "array([1.45      , 1.9       , 1.85      , 1.46666667, 0.83333333])"
            ]
          },
          "metadata": {},
          "execution_count": 6
        }
      ]
    }
  ]
}