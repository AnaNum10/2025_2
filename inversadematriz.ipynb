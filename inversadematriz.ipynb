{
  "nbformat": 4,
  "nbformat_minor": 0,
  "metadata": {
    "colab": {
      "provenance": [],
      "authorship_tag": "ABX9TyNHnPi6FIm4a7J7oRZ7oH6L",
      "include_colab_link": true
    },
    "kernelspec": {
      "name": "python3",
      "display_name": "Python 3"
    },
    "language_info": {
      "name": "python"
    }
  },
  "cells": [
    {
      "cell_type": "markdown",
      "metadata": {
        "id": "view-in-github",
        "colab_type": "text"
      },
      "source": [
        "<a href=\"https://colab.research.google.com/github/AnaNum10/2025_2/blob/main/inversadematriz.ipynb\" target=\"_parent\"><img src=\"https://colab.research.google.com/assets/colab-badge.svg\" alt=\"Open In Colab\"/></a>"
      ]
    },
    {
      "cell_type": "markdown",
      "source": [
        "Importamos las bibliotecas de siempre"
      ],
      "metadata": {
        "id": "8188ASYQinsP"
      }
    },
    {
      "cell_type": "code",
      "source": [
        "import numpy as np\n",
        "from numpy import linalg as LA"
      ],
      "metadata": {
        "id": "zb-kTbNVip6m"
      },
      "execution_count": null,
      "outputs": []
    },
    {
      "cell_type": "markdown",
      "source": [
        "Hacemos el programa para la submatriz"
      ],
      "metadata": {
        "id": "RKKgSoutiqcG"
      }
    },
    {
      "cell_type": "code",
      "source": [
        "import numpy as np\n",
        "\n",
        "def SubMat(Mat, ren, col):\n",
        "    \"\"\"\n",
        "    Crea una submatriz eliminando un renglón y una columna específicos de la matriz original.\n",
        "\n",
        "    Parámetros:\n",
        "    -----------\n",
        "    Mat : numpy.ndarray\n",
        "        Matriz original de la cual se obtendrá la submatriz.\n",
        "    ren : int\n",
        "        Índice del renglón que se eliminará de la matriz.\n",
        "    col : int\n",
        "        Índice de la columna que se eliminará de la matriz.\n",
        "\n",
        "    Retorna:\n",
        "    --------\n",
        "    numpy.ndarray\n",
        "        Submatriz resultante después de eliminar el renglón y la columna especificados.\n",
        "\n",
        "    Ejemplo:\n",
        "    --------\n",
        "    >>> Mat = np.array([[1, 2, 3],\n",
        "    ...                [4, 5, 6],\n",
        "    ...                [7, 8, 9]])\n",
        "    >>> SubMat(Mat, 1, 1)\n",
        "    array([[1, 3],\n",
        "           [7, 9]])\n",
        "    \"\"\"\n",
        "    # Crear una copia de la matriz original para no modificarla\n",
        "    M1 = np.copy(Mat)\n",
        "\n",
        "    # Eliminar el renglón especificado\n",
        "    M1 = np.delete(M1, ren, axis=0)\n",
        "\n",
        "    # Eliminar la columna especificada\n",
        "    M1 = np.delete(M1, col, axis=1)\n",
        "\n",
        "    return M1"
      ],
      "metadata": {
        "id": "txTQtnCtin9u"
      },
      "execution_count": null,
      "outputs": []
    },
    {
      "cell_type": "markdown",
      "source": [
        "Calculamos el determinante"
      ],
      "metadata": {
        "id": "kISWinKzlN4o"
      }
    },
    {
      "cell_type": "code",
      "source": [
        "import numpy as np\n",
        "\n",
        "def Det(Mat):\n",
        "    \"\"\"\n",
        "    Calcula el determinante de una matriz cuadrada de manera recursiva.\n",
        "\n",
        "    Parámetros:\n",
        "    -----------\n",
        "    Mat : numpy.ndarray\n",
        "        Matriz cuadrada de la cual se calculará el determinante.\n",
        "        Debe ser de tamaño n x n, donde n >= 2.\n",
        "\n",
        "    Retorna:\n",
        "    --------\n",
        "    float\n",
        "        El determinante de la matriz.\n",
        "\n",
        "    Ejemplo:\n",
        "    --------\n",
        "    >>> Mat = np.array([[1, 2],\n",
        "    ...                [3, 4]])\n",
        "    >>> Det(Mat)\n",
        "    -2.0\n",
        "\n",
        "    >>> Mat = np.array([[6, 1, 1],\n",
        "    ...                [4, -2, 5],\n",
        "    ...                [2, 8, 7]])\n",
        "    >>> Det(Mat)\n",
        "    -306.0\n",
        "    \"\"\"\n",
        "    # Caso base: matriz 2x2\n",
        "    if Mat.shape[0] == 2 and Mat.shape[1] == 2:\n",
        "        return Mat[0][0] * Mat[1][1] - (Mat[0][1] * Mat[1][0])\n",
        "\n",
        "    # Caso recursivo: matrices más grandes\n",
        "    deter = 0.0\n",
        "    for col in range(Mat.shape[0]):\n",
        "        # Calcula el cofactor y suma al determinante\n",
        "        deter += ((-1) ** col) * Mat[0][col] * Det(SubMat(Mat, 0, col))\n",
        "    return deter"
      ],
      "metadata": {
        "id": "iOoNGTc-lRDm"
      },
      "execution_count": null,
      "outputs": []
    },
    {
      "cell_type": "markdown",
      "source": [
        "Hacemos la transpuesta"
      ],
      "metadata": {
        "id": "nmzU5z26MhVW"
      }
    },
    {
      "cell_type": "code",
      "source": [
        "import numpy as np\n",
        "\n",
        "def Transpuesta(Mat):\n",
        "    \"\"\"\n",
        "    Calcula la transpuesta de una matriz cuadrada modificando la matriz original.\n",
        "\n",
        "    Parámetros:\n",
        "    -----------\n",
        "    Mat : numpy.ndarray\n",
        "        Matriz cuadrada de tamaño n x n que se transpondrá.\n",
        "        La matriz se modificará in situ.\n",
        "\n",
        "    Retorna:\n",
        "    --------\n",
        "    numpy.ndarray\n",
        "        La matriz transpuesta. La matriz original también se modifica.\n",
        "\n",
        "    Ejemplo:\n",
        "    --------\n",
        "    >>> Mat = np.array([[1, 2, 3],\n",
        "    ...                [4, 5, 6],\n",
        "    ...                [7, 8, 9]])\n",
        "    >>> Transpuesta(Mat)\n",
        "    array([[1, 4, 7],\n",
        "           [2, 5, 8],\n",
        "           [3, 6, 9]])\n",
        "    \"\"\"\n",
        "    for ren in range(Mat.shape[0]):\n",
        "        for col in range(Mat.shape[1]):\n",
        "            if ren < col:\n",
        "                # Intercambia los elementos para obtener la transpuesta\n",
        "                Mat[ren, col], Mat[col, ren] = Mat[col, ren], Mat[ren, col]\n",
        "    return Mat"
      ],
      "metadata": {
        "id": "PIAcp2ixMjKF"
      },
      "execution_count": null,
      "outputs": []
    },
    {
      "cell_type": "markdown",
      "source": [
        "Calculamos la matriz de cofactores"
      ],
      "metadata": {
        "id": "oKr4qc1KlRxY"
      }
    },
    {
      "cell_type": "code",
      "source": [
        "import numpy as np\n",
        "\n",
        "def Cofactores(Mat):\n",
        "    \"\"\"\n",
        "    Calcula la matriz de cofactores de una matriz cuadrada.\n",
        "\n",
        "    Parámetros:\n",
        "    -----------\n",
        "    Mat : numpy.ndarray\n",
        "        Matriz cuadrada de tamaño n x n para la cual se calcularán los cofactores.\n",
        "\n",
        "    Retorna:\n",
        "    --------\n",
        "    numpy.ndarray\n",
        "        Matriz de cofactores, donde cada elemento es el cofactor correspondiente\n",
        "        de la matriz original.\n",
        "\n",
        "    Ejemplo:\n",
        "    --------\n",
        "    >>> Mat = np.array([[1, 2],\n",
        "    ...                [3, 4]])\n",
        "    >>> Cofactores(Mat)\n",
        "    array([[ 4., -3.],\n",
        "           [-2.,  1.]])\n",
        "    \"\"\"\n",
        "    # Crear una matriz de ceros del mismo tamaño que Mat para almacenar los cofactores\n",
        "    Cofa = np.zeros_like(Mat, dtype=float)\n",
        "\n",
        "    # Calcular el cofactor para cada elemento de la matriz\n",
        "    for ren in range(Mat.shape[0]):\n",
        "        for col in range(Mat.shape[1]):\n",
        "            # Calcular el determinante de la submatriz (menor) y aplicar el signo\n",
        "            Cofa[ren, col] = ((-1) ** (ren + col)) * Det(SubMat(Mat, ren, col))\n",
        "    return Cofa"
      ],
      "metadata": {
        "id": "NBCXlVdmlWbt"
      },
      "execution_count": null,
      "outputs": []
    },
    {
      "cell_type": "markdown",
      "source": [
        "Hacemos el programa que calcule la inverwa"
      ],
      "metadata": {
        "id": "Mxf4T6MhlZ7P"
      }
    },
    {
      "cell_type": "code",
      "source": [
        "import numpy as np\n",
        "\n",
        "def Inv(Mat):\n",
        "    \"\"\"\n",
        "    Calcula la inversa de una matriz cuadrada utilizando la matriz de cofactores.\n",
        "\n",
        "    Parámetros:\n",
        "    -----------\n",
        "    Mat : numpy.ndarray\n",
        "        Matriz cuadrada de tamaño n x n que se invertirá.\n",
        "        Debe ser una matriz no singular (su determinante debe ser distinto de cero).\n",
        "\n",
        "    Retorna:\n",
        "    --------\n",
        "    numpy.ndarray\n",
        "        La matriz inversa de la matriz original.\n",
        "\n",
        "    Ejemplo:\n",
        "    --------\n",
        "    >>> Mat = np.array([[4, 7],\n",
        "    ...                [2, 6]])\n",
        "    >>> Inv(Mat)\n",
        "    array([[ 0.6, -0.7],\n",
        "           [-0.2,  0.4]])\n",
        "    \"\"\"\n",
        "    # Calcular el determinante de la matriz\n",
        "    deter = Det(Mat)\n",
        "\n",
        "    # Verificar si la matriz es singular (determinante = 0)\n",
        "    if deter == 0:\n",
        "        raise ValueError(\"La matriz es singular y no tiene inversa.\")\n",
        "\n",
        "    # Calcular la matriz de cofactores\n",
        "    Cofac = Cofactores(Mat)\n",
        "\n",
        "    # Transponer la matriz de cofactores para obtener la matriz adjunta\n",
        "    Cofac = Transpuesta(Cofac)\n",
        "\n",
        "    # Calcular la inversa multiplicando la adjunta por 1/determinante\n",
        "    Inversa = (1 / deter) * Cofac\n",
        "\n",
        "    return Inversa"
      ],
      "metadata": {
        "id": "0ENdGf0hlYOF"
      },
      "execution_count": null,
      "outputs": []
    },
    {
      "cell_type": "markdown",
      "source": [
        "Comprobamos que sea la inversa"
      ],
      "metadata": {
        "id": "E-AmTsaJleYP"
      }
    },
    {
      "cell_type": "code",
      "source": [
        "A=np.array([[2,3,-4],[0,-4,2],[1,-1,5]])\n",
        "b=np.array([1.0,1.0,1.0])\n",
        "\n",
        "import numpy as np\n",
        "\n",
        "def SolveInv(Mat, vec):\n",
        "    \"\"\"\n",
        "    Resuelve un sistema de ecuaciones lineales utilizando la matriz inversa.\n",
        "\n",
        "    Parámetros:\n",
        "    -----------\n",
        "    Mat : numpy.ndarray\n",
        "        Matriz cuadrada de coeficientes del sistema de ecuaciones.\n",
        "        Debe ser una matriz no singular (su determinante debe ser distinto de cero).\n",
        "\n",
        "    vec : numpy.ndarray\n",
        "        Vector de términos independientes.\n",
        "        Su tamaño debe coincidir con el número de filas de la matriz `Mat`.\n",
        "\n",
        "    Retorna:\n",
        "    --------\n",
        "    numpy.ndarray\n",
        "        Vector solución del sistema de ecuaciones `Mat @ x = vec`.\n",
        "\n",
        "    Excepciones:\n",
        "    ------------\n",
        "    ValueError\n",
        "        Se lanza un error si la matriz `Mat` no es invertible.\n",
        "\n",
        "    Ejemplo:\n",
        "    --------\n",
        "    >>> Mat = np.array([[2, 1],\n",
        "    ...                 [5, 3]])\n",
        "    >>> vec = np.array([4, 10])\n",
        "    >>> SolveInv(Mat, vec)\n",
        "    array([2., 0.])\n",
        "\n",
        "    \"\"\"\n",
        "    # Calcular la inversa de la matriz\n",
        "    InvMat = Inv(Mat)\n",
        "\n",
        "    # Multiplicar la inversa por el vector de términos independientes\n",
        "    Solucion = InvMat @ vec\n",
        "\n",
        "    return Solucion\n",
        "\n",
        "\n",
        "Sol=SolveInv(A,b)\n",
        "print(Sol)\n",
        "Sol_python=LA.solve(A,b)\n",
        "print(Sol_python)\n",
        "\"\"\"\n",
        "print(A)\n",
        "InvA=Inv(A)\n",
        "print(A@InvA)\n",
        "print(InvA@A)\n",
        "\"\"\""
      ],
      "metadata": {
        "colab": {
          "base_uri": "https://localhost:8080/",
          "height": 70
        },
        "id": "LbDdEuQblcWG",
        "outputId": "e6e97e0b-125c-40c1-a700-0f4d1e21137f"
      },
      "execution_count": null,
      "outputs": [
        {
          "output_type": "stream",
          "name": "stdout",
          "text": [
            "[ 0.84782609 -0.26086957 -0.02173913]\n",
            "[ 0.84782609 -0.26086957 -0.02173913]\n"
          ]
        },
        {
          "output_type": "execute_result",
          "data": {
            "text/plain": [
              "'\\nprint(A)\\nInvA=Inv(A)\\nprint(A@InvA)\\nprint(InvA@A)\\n'"
            ],
            "application/vnd.google.colaboratory.intrinsic+json": {
              "type": "string"
            }
          },
          "metadata": {},
          "execution_count": 7
        }
      ]
    },
    {
      "cell_type": "code",
      "source": [],
      "metadata": {
        "id": "UEHLfrGvlhlV"
      },
      "execution_count": null,
      "outputs": []
    }
  ]
}