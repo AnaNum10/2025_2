{
  "cells": [
    {
      "cell_type": "markdown",
      "metadata": {
        "id": "view-in-github",
        "colab_type": "text"
      },
      "source": [
        "<a href=\"https://colab.research.google.com/github/AnaNum10/2025_2/blob/main/LU.ipynb\" target=\"_parent\"><img src=\"https://colab.research.google.com/assets/colab-badge.svg\" alt=\"Open In Colab\"/></a>"
      ]
    },
    {
      "cell_type": "code",
      "execution_count": null,
      "metadata": {
        "colab": {
          "background_save": true
        },
        "id": "AL_POKwIPllE"
      },
      "outputs": [],
      "source": [
        "import numpy as np\n",
        "from numpy import linalg as LA"
      ]
    },
    {
      "cell_type": "code",
      "execution_count": null,
      "metadata": {
        "colab": {
          "background_save": true
        },
        "id": "xlTmqQ6imM0D"
      },
      "outputs": [],
      "source": [
        "A=np.array([[4.,12.,-16.],[12.,37.,-43.],[-16.,-43.,98.]])\n",
        "b=np.ones(3)"
      ]
    },
    {
      "cell_type": "code",
      "execution_count": null,
      "metadata": {
        "colab": {
          "background_save": true
        },
        "id": "EN1ydItxpx6z"
      },
      "outputs": [],
      "source": [
        "def SustitucionDelante(Mat, b):\n",
        "    \"\"\"\n",
        "    Realiza la sustitución hacia adelante para resolver un sistema de ecuaciones lineales\n",
        "    representado por una matriz triangular inferior.\n",
        "\n",
        "    Parámetros:\n",
        "    -----------\n",
        "    Mat : numpy.ndarray\n",
        "        Una matriz triangular inferior de tamaño n x n.\n",
        "    b : numpy.ndarray\n",
        "        Un vector de términos independientes de tamaño n.\n",
        "\n",
        "    Retorna:\n",
        "    --------\n",
        "    x : numpy.ndarray\n",
        "        Un vector solución de tamaño n que satisface la ecuación Mat @ x = b.\n",
        "\n",
        "    Descripción:\n",
        "    ------------\n",
        "    Esta función resuelve un sistema de ecuaciones lineales de la forma Mat @ x = b,\n",
        "    donde Mat es una matriz triangular inferior. Utiliza el método de sustitución hacia adelante,\n",
        "    comenzando desde la primera fila de la matriz y avanzando hacia la última.\n",
        "\n",
        "    Ejemplo:\n",
        "    --------\n",
        "    >>> Mat = np.array([[1, 0, 0],\n",
        "    ...                 [2, 3, 0],\n",
        "    ...                 [4, 5, 6]])\n",
        "    >>> b = np.array([1, 8, 32])\n",
        "    >>> SustitucionDelante(Mat, b)\n",
        "    array([1., 2., 3.])\n",
        "    \"\"\"\n",
        "    n = Mat.shape[0]\n",
        "    x = np.zeros(n)\n",
        "\n",
        "    for i in range(n):\n",
        "        SumCum = 0.0\n",
        "        for j in range(i):\n",
        "            SumCum += Mat[i, j] * x[j]\n",
        "        x[i] = (b[i] - SumCum) / Mat[i, i]\n",
        "\n",
        "    return x\n"
      ]
    },
    {
      "cell_type": "code",
      "execution_count": null,
      "metadata": {
        "id": "poB9XmgkpzGA"
      },
      "outputs": [],
      "source": [
        "def SustitucionAtras(Mat, b):\n",
        "    \"\"\"\n",
        "    Realiza la sustitución hacia atrás para resolver un sistema de ecuaciones lineales\n",
        "    representado por una matriz triangular superior.\n",
        "\n",
        "    Parámetros:\n",
        "    -----------\n",
        "    Mat : numpy.ndarray\n",
        "        Una matriz triangular superior de tamaño n x n.\n",
        "    b : numpy.ndarray\n",
        "        Un vector de términos independientes de tamaño n.\n",
        "\n",
        "    Retorna:\n",
        "    --------\n",
        "    x : numpy.ndarray\n",
        "        Un vector solución de tamaño n que satisface la ecuación Mat @ x = b.\n",
        "\n",
        "    Descripción:\n",
        "    ------------\n",
        "    Esta función resuelve un sistema de ecuaciones lineales de la forma Mat @ x = b,\n",
        "    donde Mat es una matriz triangular superior. Utiliza el método de sustitución hacia atrás,\n",
        "    comenzando desde la última fila de la matriz y avanzando hacia la primera.\n",
        "\n",
        "    Ejemplo:\n",
        "    --------\n",
        "    >>> Mat = np.array([[3, 2, 1],\n",
        "    ...                 [0, 2, 1],\n",
        "    ...                 [0, 0, 1]])\n",
        "    >>> b = np.array([6, 4, 1])\n",
        "    >>> SustitucionAtras(Mat, b)\n",
        "    array([1., 1., 1.])\n",
        "    \"\"\"\n",
        "    n = Mat.shape[0]\n",
        "    x = np.zeros(n)\n",
        "\n",
        "    for i in range(n-1, -1, -1):\n",
        "        SumCum = 0.0\n",
        "        for j in range(i+1, n):\n",
        "            SumCum += Mat[i, j] * x[j]\n",
        "        x[i] = (b[i] - SumCum) / Mat[i, i]\n",
        "\n",
        "    return x\n"
      ]
    },
    {
      "cell_type": "code",
      "execution_count": null,
      "metadata": {
        "id": "ib7dY1XAPxQ_"
      },
      "outputs": [],
      "source": [
        "def LU(A):\n",
        "  U=np.copy(A)\n",
        "  L=np.eye(A.shape[0])\n",
        "\n",
        "  for i in range(A.shape[0]):\n",
        "    Li=np.eye(A.shape[0])\n",
        "    for j in range(i+1,A.shape[0]):\n",
        "      Li[j,i]=-U[j,i]/U[i,i]\n",
        "      L[j,i]=U[j,i]/U[i,i]\n",
        "    U=Li@U\n",
        "  return L,U"
      ]
    },
    {
      "cell_type": "code",
      "execution_count": null,
      "metadata": {
        "id": "NSboJbpBmlSn"
      },
      "outputs": [],
      "source": [
        "def SolverLU(A,b):\n",
        "  L,U=LU(A)\n",
        "  # El sistema que se resuelve es Ly=b\n",
        "  y=SustitucionDelante(L, b)\n",
        "  # El sistema que se resuelve es Ux=y\n",
        "  x=SustitucionAtras(U, y)\n",
        "\n",
        "  return x"
      ]
    },
    {
      "cell_type": "code",
      "execution_count": null,
      "metadata": {
        "colab": {
          "base_uri": "https://localhost:8080/"
        },
        "id": "fGel5vzgml1X",
        "outputId": "d55f329a-3027-40de-91a6-7cebf8c0826e"
      },
      "outputs": [
        {
          "data": {
            "text/plain": [
              "array([ 37.91666667, -10.33333333,   1.66666667])"
            ]
          },
          "execution_count": 8,
          "metadata": {},
          "output_type": "execute_result"
        }
      ],
      "source": [
        "Sol=SolverLU(A,b)\n",
        "Sol"
      ]
    },
    {
      "cell_type": "code",
      "execution_count": null,
      "metadata": {
        "colab": {
          "base_uri": "https://localhost:8080/"
        },
        "id": "7-_5D0Tgmuo-",
        "outputId": "57072866-9c56-47ce-f853-102b34aca471"
      },
      "outputs": [
        {
          "data": {
            "text/plain": [
              "array([ 37.91666667, -10.33333333,   1.66666667])"
            ]
          },
          "execution_count": 9,
          "metadata": {},
          "output_type": "execute_result"
        }
      ],
      "source": [
        "LA.solve(A,b)"
      ]
    },
    {
      "cell_type": "code",
      "execution_count": null,
      "metadata": {
        "id": "tMaVBq9frWyB"
      },
      "outputs": [],
      "source": []
    }
  ],
  "metadata": {
    "colab": {
      "provenance": [],
      "authorship_tag": "ABX9TyOEcdQXBUNU2mEvRYzCA92B",
      "include_colab_link": true
    },
    "kernelspec": {
      "display_name": "Python 3",
      "name": "python3"
    },
    "language_info": {
      "name": "python"
    }
  },
  "nbformat": 4,
  "nbformat_minor": 0
}