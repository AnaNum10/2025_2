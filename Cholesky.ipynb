{
  "nbformat": 4,
  "nbformat_minor": 0,
  "metadata": {
    "colab": {
      "provenance": [],
      "authorship_tag": "ABX9TyPqCEoRZ2jZdCR/iPq0X/l1",
      "include_colab_link": true
    },
    "kernelspec": {
      "name": "python3",
      "display_name": "Python 3"
    },
    "language_info": {
      "name": "python"
    }
  },
  "cells": [
    {
      "cell_type": "markdown",
      "metadata": {
        "id": "view-in-github",
        "colab_type": "text"
      },
      "source": [
        "<a href=\"https://colab.research.google.com/github/AnaNum10/2025_2/blob/main/Cholesky.ipynb\" target=\"_parent\"><img src=\"https://colab.research.google.com/assets/colab-badge.svg\" alt=\"Open In Colab\"/></a>"
      ]
    },
    {
      "cell_type": "code",
      "source": [
        "import numpy as np\n",
        "from numpy import linalg as LA\n",
        "\n",
        "def SustDelante(L,b):\n",
        "  x=np.zeros_like(b)\n",
        "  n=L.shape[0]# cantidad de renglones de L\n",
        "  for i in range(n):\n",
        "    sum=0.0\n",
        "    for j in range(i):\n",
        "      sum+=L[i,j]*x[j]\n",
        "    x[i]=(b[i]-sum)/L[i,i]\n",
        "\n",
        "  return x\n",
        "\n",
        "def SustAtras(U,y):\n",
        "    x=np.zeros_like(y)\n",
        "    n=U.shape[0]# cantidad de renglones de U\n",
        "    x[n-1] = y[n-1]/U[n-1,n-1]\n",
        "    for i in range(n-2,-1,-1):\n",
        "        sum=0.0\n",
        "        for j in range(i+1,n):\n",
        "            sum+=U[i,j]*x[j]\n",
        "        x[i]=(y[i]-sum)/U[i,i]\n",
        "\n",
        "    return x\n",
        "\n",
        "def Cholesky(A):\n",
        "    n=A.shape[0]\n",
        "    L=np.zeros_like(A)\n",
        "\n",
        "    for i in range(n):\n",
        "      for j in range(i+1):\n",
        "        if i==j:\n",
        "          sum=0.0\n",
        "          for k in range(i):\n",
        "            sum+= L[i][k]*L[i][k]\n",
        "          L[i][i]=np.sqrt(A[i][i]-sum)\n",
        "\n",
        "        else:\n",
        "          sum=0.0\n",
        "          for k in range(j):\n",
        "            sum+= L[i][k]*L[j][k]\n",
        "          L[i][j]=(A[i][j]-sum)/L[j][j]\n",
        "\n",
        "\n",
        "\n",
        "    return L\n",
        "\n",
        "def SolveChol(A,b):\n",
        "    L=Cholesky(A)\n",
        "    y = SustDelante(L, b)\n",
        "    x = SustAtras(L.T, y)\n",
        "\n",
        "    return x\n",
        "\n",
        "A = np.array([[6.0,15.0,55.0],[15.0,55.0,225.0],[55.0,225.0,979.0]])\n",
        "b=np.array([1.,2.,3.])\n",
        "\n",
        "\n",
        "sol=SolveChol(A,b)\n",
        "print(\"Solucion\")\n",
        "print(sol)\n",
        "\n",
        "\n",
        "y=LA.solve(A,b)\n",
        "print(\"Solucion Analitica\")\n",
        "print(y)"
      ],
      "metadata": {
        "id": "4v1McnKjFTjr"
      },
      "execution_count": null,
      "outputs": []
    }
  ]
}