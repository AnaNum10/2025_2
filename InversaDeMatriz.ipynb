{
  "nbformat": 4,
  "nbformat_minor": 0,
  "metadata": {
    "colab": {
      "provenance": [],
      "authorship_tag": "ABX9TyP4JiKy5rVAjfHLC3eJNXQn",
      "include_colab_link": true
    },
    "kernelspec": {
      "name": "python3",
      "display_name": "Python 3"
    },
    "language_info": {
      "name": "python"
    }
  },
  "cells": [
    {
      "cell_type": "markdown",
      "metadata": {
        "id": "view-in-github",
        "colab_type": "text"
      },
      "source": [
        "<a href=\"https://colab.research.google.com/github/AnaNum10/2025_2/blob/main/InversaDeMatriz.ipynb\" target=\"_parent\"><img src=\"https://colab.research.google.com/assets/colab-badge.svg\" alt=\"Open In Colab\"/></a>"
      ]
    },
    {
      "cell_type": "markdown",
      "source": [
        "Importamos las bibliotecas de siempre"
      ],
      "metadata": {
        "id": "8188ASYQinsP"
      }
    },
    {
      "cell_type": "code",
      "source": [
        "import numpy as np\n",
        "from numpy import linalg as LA"
      ],
      "metadata": {
        "id": "zb-kTbNVip6m"
      },
      "execution_count": 1,
      "outputs": []
    },
    {
      "cell_type": "markdown",
      "source": [
        "Hacemos el programa para la submatriz"
      ],
      "metadata": {
        "id": "RKKgSoutiqcG"
      }
    },
    {
      "cell_type": "code",
      "source": [
        "def SubMat(Mat,ren,col):\n",
        "  M1=np.copy(Mat)\n",
        "  M1=np.delete(M1,ren,axis=0)# elimina sobre sobre los renglones\n",
        "  M1=np.delete(M1,col,axis=1)# elimina sobre sobre los renglones\n",
        "  return M1"
      ],
      "metadata": {
        "id": "txTQtnCtin9u"
      },
      "execution_count": 2,
      "outputs": []
    },
    {
      "cell_type": "markdown",
      "source": [
        "Calculamos el determinante"
      ],
      "metadata": {
        "id": "kISWinKzlN4o"
      }
    },
    {
      "cell_type": "code",
      "source": [
        "def Det(Mat):\n",
        "  if Mat.shape[0]==2 and Mat.shape[1]==2:\n",
        "    return Mat[0][0]*Mat[1][1]-(Mat[0][1]*Mat[1][0])\n",
        "  else:\n",
        "    deter=0.0\n",
        "    for col in range(Mat.shape[0]):\n",
        "      deter+= ((-1)**col)*Mat[0][col]*Det(SubMat(Mat,0,col))\n",
        "    return deter\n"
      ],
      "metadata": {
        "id": "iOoNGTc-lRDm"
      },
      "execution_count": 3,
      "outputs": []
    },
    {
      "cell_type": "markdown",
      "source": [
        "Hacemos la transpuesta"
      ],
      "metadata": {
        "id": "nmzU5z26MhVW"
      }
    },
    {
      "cell_type": "code",
      "source": [
        "def Transpuesta(Mat):\n",
        "    for ren in range(Mat.shape[0]):\n",
        "        for col in range(Mat.shape[1]):\n",
        "            if ren<col:\n",
        "                Mat[ren,col],Mat[col,ren]=Mat[col,ren],Mat[ren,col]\n",
        "\n",
        "    return Mat"
      ],
      "metadata": {
        "id": "PIAcp2ixMjKF"
      },
      "execution_count": 4,
      "outputs": []
    },
    {
      "cell_type": "markdown",
      "source": [
        "Calculamos la matriz de cofactores"
      ],
      "metadata": {
        "id": "oKr4qc1KlRxY"
      }
    },
    {
      "cell_type": "code",
      "source": [
        "def Cofactores(Mat):\n",
        "  Cofa=np.zeros_like(Mat)\n",
        "\n",
        "  for ren in range(Mat.shape[0]):\n",
        "    for col in range(Mat.shape[1]):\n",
        "      Cofa[ren,col]=((-1)**(ren+col))*Det(SubMat(Mat,ren,col))\n",
        "\n",
        "  return Cofa"
      ],
      "metadata": {
        "id": "NBCXlVdmlWbt"
      },
      "execution_count": 5,
      "outputs": []
    },
    {
      "cell_type": "markdown",
      "source": [
        "Hacemos el programa que calcule la inverwa"
      ],
      "metadata": {
        "id": "Mxf4T6MhlZ7P"
      }
    },
    {
      "cell_type": "code",
      "source": [
        "def Inv(Mat):\n",
        "  deter=Det(Mat)\n",
        "  Cofac=Cofactores(Mat)\n",
        "  Cofac=Transpuesta(Cofac)\n",
        "\n",
        "  Inversa=(1/deter)*Cofac\n",
        "\n",
        "  return Inversa"
      ],
      "metadata": {
        "id": "0ENdGf0hlYOF"
      },
      "execution_count": 6,
      "outputs": []
    },
    {
      "cell_type": "markdown",
      "source": [
        "Comprobamos que sea la inversa"
      ],
      "metadata": {
        "id": "E-AmTsaJleYP"
      }
    },
    {
      "cell_type": "code",
      "source": [
        "A=np.array([[2,3,-4],[0,-4,2],[1,-1,5]])\n",
        "b=np.array([1.0,1.0,1.0])\n",
        "\n",
        "def SolveInv(Mat,vec):\n",
        "  InvMat=Inv(Mat)\n",
        "  Solucion=InvMat@vec\n",
        "\n",
        "  return Solucion\n",
        "\n",
        "Sol=SolveInv(A,b)\n",
        "print(Sol)\n",
        "Sol_python=LA.solve(A,b)\n",
        "print(Sol_python)\n",
        "\"\"\"\n",
        "print(A)\n",
        "InvA=Inv(A)\n",
        "print(A@InvA)\n",
        "print(InvA@A)\n",
        "\"\"\""
      ],
      "metadata": {
        "colab": {
          "base_uri": "https://localhost:8080/",
          "height": 70
        },
        "id": "LbDdEuQblcWG",
        "outputId": "e6e97e0b-125c-40c1-a700-0f4d1e21137f"
      },
      "execution_count": 7,
      "outputs": [
        {
          "output_type": "stream",
          "name": "stdout",
          "text": [
            "[ 0.84782609 -0.26086957 -0.02173913]\n",
            "[ 0.84782609 -0.26086957 -0.02173913]\n"
          ]
        },
        {
          "output_type": "execute_result",
          "data": {
            "text/plain": [
              "'\\nprint(A)\\nInvA=Inv(A)\\nprint(A@InvA)\\nprint(InvA@A)\\n'"
            ],
            "application/vnd.google.colaboratory.intrinsic+json": {
              "type": "string"
            }
          },
          "metadata": {},
          "execution_count": 7
        }
      ]
    },
    {
      "cell_type": "code",
      "source": [],
      "metadata": {
        "id": "UEHLfrGvlhlV"
      },
      "execution_count": 7,
      "outputs": []
    }
  ]
}