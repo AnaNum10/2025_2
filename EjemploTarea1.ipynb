{
  "nbformat": 4,
  "nbformat_minor": 0,
  "metadata": {
    "colab": {
      "provenance": [],
      "authorship_tag": "ABX9TyOoUaTEF7QJH+mMwKPEQPx0",
      "include_colab_link": true
    },
    "kernelspec": {
      "name": "python3",
      "display_name": "Python 3"
    },
    "language_info": {
      "name": "python"
    }
  },
  "cells": [
    {
      "cell_type": "markdown",
      "metadata": {
        "id": "view-in-github",
        "colab_type": "text"
      },
      "source": [
        "<a href=\"https://colab.research.google.com/github/AnaNum10/2025_2/blob/main/EjemploTarea1.ipynb\" target=\"_parent\"><img src=\"https://colab.research.google.com/assets/colab-badge.svg\" alt=\"Open In Colab\"/></a>"
      ]
    },
    {
      "cell_type": "code",
      "execution_count": 1,
      "metadata": {
        "id": "VRY_K0K3zlcV",
        "outputId": "07652615-7b1f-4298-e3ea-a334736d21da",
        "colab": {
          "base_uri": "https://localhost:8080/"
        }
      },
      "outputs": [
        {
          "output_type": "stream",
          "name": "stdout",
          "text": [
            "Tiempo de ejecución: 0.056086 segundos para 1000 ejecuciones\n"
          ]
        }
      ],
      "source": [
        "import numpy as np\n",
        "import timeit\n",
        "\n",
        "# Función de eliminación gaussiana\n",
        "def gaussian_elimination(A):\n",
        "    n = len(A)\n",
        "    for i in range(n):\n",
        "        pivot = A[i, i]\n",
        "        A[i] = A[i] / pivot\n",
        "        for j in range(i + 1, n):\n",
        "            A[j] = A[j] - A[j, i] * A[i]\n",
        "    return A\n",
        "\n",
        "# Definir la matriz\n",
        "A = np.array([[2, 1, -1],\n",
        "              [-3, -1, 2],\n",
        "              [-2, 1, 2]], dtype=float)\n",
        "\n",
        "# Medir el tiempo de ejecución\n",
        "time = timeit.timeit(lambda: gaussian_elimination(A), number=1000)\n",
        "\n",
        "print(f\"Tiempo de ejecución: {time:.6f} segundos para 1000 ejecuciones\")"
      ]
    },
    {
      "cell_type": "code",
      "source": [],
      "metadata": {
        "id": "0Jcll6iJzmCc"
      },
      "execution_count": null,
      "outputs": []
    }
  ]
}