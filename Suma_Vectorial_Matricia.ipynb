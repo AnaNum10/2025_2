{
  "nbformat": 4,
  "nbformat_minor": 0,
  "metadata": {
    "colab": {
      "provenance": [],
      "authorship_tag": "ABX9TyNTv6KEvYwwBcj5Az0UaiG6",
      "include_colab_link": true
    },
    "kernelspec": {
      "name": "python3",
      "display_name": "Python 3"
    },
    "language_info": {
      "name": "python"
    }
  },
  "cells": [
    {
      "cell_type": "markdown",
      "metadata": {
        "id": "view-in-github",
        "colab_type": "text"
      },
      "source": [
        "<a href=\"https://colab.research.google.com/github/AnaNum10/2025_2/blob/main/Suma_Vectorial_Matricia.ipynb\" target=\"_parent\"><img src=\"https://colab.research.google.com/assets/colab-badge.svg\" alt=\"Open In Colab\"/></a>"
      ]
    },
    {
      "cell_type": "markdown",
      "source": [
        "Suma de vectores"
      ],
      "metadata": {
        "id": "7RRooHPSMFKF"
      }
    },
    {
      "cell_type": "code",
      "source": [
        "import numpy as np\n",
        "\n",
        "n=15 # tamaño de los vectores\n",
        "\n",
        "# declarando los arreglos a utilizar\n",
        "a= n*[2];\n",
        "b= n*[4];\n",
        "\n",
        "a=np.array(a);\n",
        "b=np.array(b);\n",
        "c=np.zeros_like(a);\n",
        "\n",
        "#print(type(a)) #visualizacion de la lista\n",
        "\n",
        "for i in range(n):\n",
        "\tc[i]=a[i]+b[i]\n",
        "\n",
        "print(\"el resultado es\",c)"
      ],
      "metadata": {
        "id": "xaZtbGQ2MGhs"
      },
      "execution_count": null,
      "outputs": []
    },
    {
      "cell_type": "markdown",
      "source": [
        "Suma de matrices"
      ],
      "metadata": {
        "id": "w5zqF1PyMG8r"
      }
    },
    {
      "cell_type": "code",
      "source": [
        "import numpy as np\n",
        "\n",
        "n=3 # tamaño de los vectores\n",
        "\n",
        "# declarando los arreglos a utilizar\n",
        "A= n*[n*[2]];\n",
        "B= n*[n*[4]];\n",
        "\n",
        "A=np.array(A)\n",
        "B=np.array(B)\n",
        "C=np.zeros_like(A)\n",
        "\n",
        "for i in range(n):\n",
        "\tfor j in range(n):\n",
        "\t\tC[i,j]=A[i,j]+B[i,j]\n",
        "\n",
        "print(C)"
      ],
      "metadata": {
        "id": "QdyAi7qUMHHr"
      },
      "execution_count": null,
      "outputs": []
    }
  ]
}