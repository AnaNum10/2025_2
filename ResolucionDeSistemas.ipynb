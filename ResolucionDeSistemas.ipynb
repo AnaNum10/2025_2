{
  "nbformat": 4,
  "nbformat_minor": 0,
  "metadata": {
    "colab": {
      "provenance": [],
      "authorship_tag": "ABX9TyNefnZmE58+br/7a43XtMUj",
      "include_colab_link": true
    },
    "kernelspec": {
      "name": "python3",
      "display_name": "Python 3"
    },
    "language_info": {
      "name": "python"
    }
  },
  "cells": [
    {
      "cell_type": "markdown",
      "metadata": {
        "id": "view-in-github",
        "colab_type": "text"
      },
      "source": [
        "<a href=\"https://colab.research.google.com/github/AnaNum10/2025_2/blob/main/ResolucionDeSistemas.ipynb\" target=\"_parent\"><img src=\"https://colab.research.google.com/assets/colab-badge.svg\" alt=\"Open In Colab\"/></a>"
      ]
    },
    {
      "cell_type": "code",
      "execution_count": 36,
      "metadata": {
        "id": "6hmbq4H3ZfbT"
      },
      "outputs": [],
      "source": [
        "import numpy as np\n",
        "from numpy import linalg as LA"
      ]
    },
    {
      "cell_type": "markdown",
      "source": [
        "Sistema diagonal"
      ],
      "metadata": {
        "id": "vmwpFuxAcLF4"
      }
    },
    {
      "cell_type": "code",
      "source": [
        "import numpy as np\n",
        "\n",
        "def SolverDiagonal(A, b):\n",
        "    \"\"\"\n",
        "    Resuelve un sistema de ecuaciones lineales donde la matriz A es diagonal.\n",
        "\n",
        "    Esta función resuelve el sistema de ecuaciones Ax = b, donde A es una matriz diagonal\n",
        "    representada por su diagonal principal (un vector). La solución se obtiene dividiendo\n",
        "    cada elemento del vector b por el correspondiente elemento de la diagonal de A.\n",
        "\n",
        "    Parámetros:\n",
        "    -----------\n",
        "    A : array_like\n",
        "        Un arreglo unidimensional que representa la diagonal principal de la matriz A.\n",
        "        Debe tener la misma longitud que el vector b.\n",
        "\n",
        "    b : array_like\n",
        "        Un arreglo unidimensional que representa el vector de términos independientes del sistema.\n",
        "\n",
        "    Retorna:\n",
        "    --------\n",
        "    x : ndarray\n",
        "        Un arreglo unidimensional que contiene la solución del sistema Ax = b.\n",
        "\n",
        "    Ejemplo:\n",
        "    --------\n",
        "    >>> A = np.array([2, 4, 6])  # Diagonal principal de la matriz A\n",
        "    >>> b = np.array([8, 16, 36])  # Vector de términos independientes\n",
        "    >>> x = SolverDiagonal(A, b)\n",
        "    >>> print(x)\n",
        "    [4. 4. 6.]\n",
        "\n",
        "    Notas:\n",
        "    ------\n",
        "    - La función asume que la matriz A es diagonal y que no hay elementos fuera de la diagonal.\n",
        "    - Si algún elemento de la diagonal A es cero, se producirá un error de división por cero.\n",
        "    \"\"\"\n",
        "    n = len(A)\n",
        "    x = np.zeros_like(A, dtype=float)  # Asegura que x sea de tipo flotante\n",
        "    for i in range(n):\n",
        "        x[i] = b[i] / A[i]\n",
        "    return x"
      ],
      "metadata": {
        "id": "7njAn1s2cNit"
      },
      "execution_count": 37,
      "outputs": []
    },
    {
      "cell_type": "code",
      "source": [
        "AA=np.array([1.0,2.0,3.0])\n",
        "bb=np.ones_like(AA)\n",
        "\n",
        "SolverDiagonal(AA,bb)"
      ],
      "metadata": {
        "colab": {
          "base_uri": "https://localhost:8080/"
        },
        "id": "ICl2mBjydsKp",
        "outputId": "bd8aefe4-1dc6-4c2e-8d30-c74c738889e1"
      },
      "execution_count": 38,
      "outputs": [
        {
          "output_type": "execute_result",
          "data": {
            "text/plain": [
              "array([1.        , 0.5       , 0.33333333])"
            ]
          },
          "metadata": {},
          "execution_count": 38
        }
      ]
    },
    {
      "cell_type": "code",
      "source": [
        "def SustitucionDelante(Mat,b):\n",
        "  n=Mat.shape[0]\n",
        "  x=np.zeros(n)\n",
        "\n",
        "  x[0]=b[0]/Mat[0,0]\n",
        "  for i in range(n):\n",
        "    SumCum=0.0\n",
        "    print(\"i=\",i)\n",
        "    for j in range(i-1):\n",
        "      print(\"j=\",j)\n",
        "      SumCum+=Mat[j,i]*x[j]\n",
        "    x[i]=(b[i]-SumCum)/Mat[i,i]\n",
        "\n",
        "  return x"
      ],
      "metadata": {
        "id": "ElVB9tqld2gh"
      },
      "execution_count": 43,
      "outputs": []
    },
    {
      "cell_type": "code",
      "source": [
        "import numpy as np\n",
        "\n",
        "# Crear una matriz cuadrada de ejemplo\n",
        "matriz = np.array([[1.0, 2.0, 3.0],\n",
        "                   [4.0, 5.0, 6.0],\n",
        "                   [7.0, 8.0, 9.0]])\n",
        "\n",
        "# Convertir la matriz en una matriz triangular inferior\n",
        "MTI = np.tril(matriz)\n",
        "print(MTI)"
      ],
      "metadata": {
        "colab": {
          "base_uri": "https://localhost:8080/"
        },
        "id": "LsB-Oib0hYIo",
        "outputId": "40f3a9a0-4e69-42bf-8353-2cafe73635a1"
      },
      "execution_count": 44,
      "outputs": [
        {
          "output_type": "stream",
          "name": "stdout",
          "text": [
            "[[1. 0. 0.]\n",
            " [4. 5. 0.]\n",
            " [7. 8. 9.]]\n"
          ]
        }
      ]
    },
    {
      "cell_type": "code",
      "source": [
        "SustitucionDelante(MTI,bb)"
      ],
      "metadata": {
        "colab": {
          "base_uri": "https://localhost:8080/"
        },
        "id": "4XgSvxl2hYp8",
        "outputId": "e2736f71-d171-4fca-bb7e-60b5a77d22fa"
      },
      "execution_count": 45,
      "outputs": [
        {
          "output_type": "stream",
          "name": "stdout",
          "text": [
            "i= 0\n",
            "i= 1\n",
            "i= 2\n",
            "j= 0\n"
          ]
        },
        {
          "output_type": "execute_result",
          "data": {
            "text/plain": [
              "array([1.        , 0.2       , 0.11111111])"
            ]
          },
          "metadata": {},
          "execution_count": 45
        }
      ]
    },
    {
      "cell_type": "code",
      "source": [
        "LA.solve(MTI,bb)"
      ],
      "metadata": {
        "colab": {
          "base_uri": "https://localhost:8080/"
        },
        "id": "sXZRdCkoifgK",
        "outputId": "49fd9a7e-97bd-4ad4-e5fd-16caac89eea2"
      },
      "execution_count": 42,
      "outputs": [
        {
          "output_type": "execute_result",
          "data": {
            "text/plain": [
              "array([ 1.        , -0.6       , -0.13333333])"
            ]
          },
          "metadata": {},
          "execution_count": 42
        }
      ]
    },
    {
      "cell_type": "code",
      "source": [],
      "metadata": {
        "id": "knFs_Gs-jsTe"
      },
      "execution_count": 42,
      "outputs": []
    }
  ]
}