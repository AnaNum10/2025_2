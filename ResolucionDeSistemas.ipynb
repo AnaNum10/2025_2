{
  "nbformat": 4,
  "nbformat_minor": 0,
  "metadata": {
    "colab": {
      "provenance": [],
      "authorship_tag": "ABX9TyN8yLDbGiX5Wx6ma7S8PtSz",
      "include_colab_link": true
    },
    "kernelspec": {
      "name": "python3",
      "display_name": "Python 3"
    },
    "language_info": {
      "name": "python"
    }
  },
  "cells": [
    {
      "cell_type": "markdown",
      "metadata": {
        "id": "view-in-github",
        "colab_type": "text"
      },
      "source": [
        "<a href=\"https://colab.research.google.com/github/AnaNum10/2025_2/blob/main/ResolucionDeSistemas.ipynb\" target=\"_parent\"><img src=\"https://colab.research.google.com/assets/colab-badge.svg\" alt=\"Open In Colab\"/></a>"
      ]
    },
    {
      "cell_type": "code",
      "execution_count": 1,
      "metadata": {
        "id": "6hmbq4H3ZfbT"
      },
      "outputs": [],
      "source": [
        "import numpy as np\n",
        "from numpy import linalg as LA"
      ]
    },
    {
      "cell_type": "markdown",
      "source": [
        "Sistema diagonal"
      ],
      "metadata": {
        "id": "vmwpFuxAcLF4"
      }
    },
    {
      "cell_type": "code",
      "source": [
        "import numpy as np\n",
        "\n",
        "def SolverDiagonal(A, b):\n",
        "    \"\"\"\n",
        "    Resuelve un sistema de ecuaciones lineales donde la matriz A es diagonal.\n",
        "\n",
        "    Esta función resuelve el sistema de ecuaciones Ax = b, donde A es una matriz diagonal\n",
        "    representada por su diagonal principal (un vector). La solución se obtiene dividiendo\n",
        "    cada elemento del vector b por el correspondiente elemento de la diagonal de A.\n",
        "\n",
        "    Parámetros:\n",
        "    -----------\n",
        "    A : array_like\n",
        "        Un arreglo unidimensional que representa la diagonal principal de la matriz A.\n",
        "        Debe tener la misma longitud que el vector b.\n",
        "\n",
        "    b : array_like\n",
        "        Un arreglo unidimensional que representa el vector de términos independientes del sistema.\n",
        "\n",
        "    Retorna:\n",
        "    --------\n",
        "    x : ndarray\n",
        "        Un arreglo unidimensional que contiene la solución del sistema Ax = b.\n",
        "\n",
        "    Ejemplo:\n",
        "    --------\n",
        "    >>> A = np.array([2, 4, 6])  # Diagonal principal de la matriz A\n",
        "    >>> b = np.array([8, 16, 36])  # Vector de términos independientes\n",
        "    >>> x = SolverDiagonal(A, b)\n",
        "    >>> print(x)\n",
        "    [4. 4. 6.]\n",
        "\n",
        "    Notas:\n",
        "    ------\n",
        "    - La función asume que la matriz A es diagonal y que no hay elementos fuera de la diagonal.\n",
        "    - Si algún elemento de la diagonal A es cero, se producirá un error de división por cero.\n",
        "    \"\"\"\n",
        "    n = len(A)\n",
        "    x = np.zeros_like(A, dtype=float)  # Asegura que x sea de tipo flotante\n",
        "    for i in range(n):\n",
        "        x[i] = b[i] / A[i]\n",
        "    return x"
      ],
      "metadata": {
        "id": "7njAn1s2cNit"
      },
      "execution_count": 2,
      "outputs": []
    },
    {
      "cell_type": "code",
      "source": [
        "AA=np.array([1.0,2.0,3.0])\n",
        "bb=np.ones_like(AA)\n",
        "\n",
        "SolverDiagonal(AA,bb)"
      ],
      "metadata": {
        "colab": {
          "base_uri": "https://localhost:8080/"
        },
        "id": "ICl2mBjydsKp",
        "outputId": "fd316ace-b60a-427b-9bdc-d0e0c8f25a2c"
      },
      "execution_count": 3,
      "outputs": [
        {
          "output_type": "execute_result",
          "data": {
            "text/plain": [
              "array([1.        , 0.5       , 0.33333333])"
            ]
          },
          "metadata": {},
          "execution_count": 3
        }
      ]
    },
    {
      "cell_type": "code",
      "source": [
        "import numpy as np\n",
        "\n",
        "def SustitucionDelante(Mat, b):\n",
        "    \"\"\"\n",
        "    Realiza la sustitución hacia adelante para resolver un sistema de ecuaciones lineales\n",
        "    representado por una matriz triangular inferior.\n",
        "\n",
        "    Parámetros:\n",
        "    -----------\n",
        "    Mat : numpy.ndarray\n",
        "        Una matriz triangular inferior de tamaño n x n.\n",
        "    b : numpy.ndarray\n",
        "        Un vector de términos independientes de tamaño n.\n",
        "\n",
        "    Retorna:\n",
        "    --------\n",
        "    x : numpy.ndarray\n",
        "        Un vector solución de tamaño n que satisface la ecuación Mat @ x = b.\n",
        "\n",
        "    Descripción:\n",
        "    ------------\n",
        "    Esta función resuelve un sistema de ecuaciones lineales de la forma Mat @ x = b,\n",
        "    donde Mat es una matriz triangular inferior. Utiliza el método de sustitución hacia adelante,\n",
        "    comenzando desde la primera fila de la matriz y avanzando hacia la última.\n",
        "\n",
        "    Ejemplo:\n",
        "    --------\n",
        "    >>> Mat = np.array([[1, 0, 0],\n",
        "    ...                 [2, 3, 0],\n",
        "    ...                 [4, 5, 6]])\n",
        "    >>> b = np.array([1, 8, 32])\n",
        "    >>> SustitucionDelante(Mat, b)\n",
        "    array([1., 2., 3.])\n",
        "    \"\"\"\n",
        "    n = Mat.shape[0]\n",
        "    x = np.zeros(n)\n",
        "\n",
        "    for i in range(n):\n",
        "        SumCum = 0.0\n",
        "        for j in range(i):\n",
        "            SumCum += Mat[i, j] * x[j]\n",
        "        x[i] = (b[i] - SumCum) / Mat[i, i]\n",
        "\n",
        "    return x"
      ],
      "metadata": {
        "id": "ElVB9tqld2gh"
      },
      "execution_count": 4,
      "outputs": []
    },
    {
      "cell_type": "code",
      "source": [
        "import numpy as np\n",
        "\n",
        "# Crear una matriz cuadrada de ejemplo\n",
        "matriz = np.array([[1.0, 2.0, 3.0],\n",
        "                   [4.0, 5.0, 6.0],\n",
        "                   [7.0, 8.0, 9.0]])\n",
        "\n",
        "# Convertir la matriz en una matriz triangular inferior\n",
        "MTI = np.tril(matriz)\n",
        "MTS = np.triu(matriz)\n",
        "print(MTS)"
      ],
      "metadata": {
        "colab": {
          "base_uri": "https://localhost:8080/"
        },
        "id": "LsB-Oib0hYIo",
        "outputId": "2a189ac5-db69-4022-efd0-1a2b92f3dd46"
      },
      "execution_count": 5,
      "outputs": [
        {
          "output_type": "stream",
          "name": "stdout",
          "text": [
            "[[1. 2. 3.]\n",
            " [0. 5. 6.]\n",
            " [0. 0. 9.]]\n"
          ]
        }
      ]
    },
    {
      "cell_type": "code",
      "source": [
        "SustitucionDelante(MTI,bb)"
      ],
      "metadata": {
        "colab": {
          "base_uri": "https://localhost:8080/"
        },
        "id": "4XgSvxl2hYp8",
        "outputId": "96f9888e-b937-431f-dc31-43f78febf5fa"
      },
      "execution_count": 6,
      "outputs": [
        {
          "output_type": "execute_result",
          "data": {
            "text/plain": [
              "array([ 1.        , -0.6       , -0.13333333])"
            ]
          },
          "metadata": {},
          "execution_count": 6
        }
      ]
    },
    {
      "cell_type": "code",
      "source": [
        "LA.solve(MTI,bb)"
      ],
      "metadata": {
        "colab": {
          "base_uri": "https://localhost:8080/"
        },
        "id": "sXZRdCkoifgK",
        "outputId": "e263c3e2-454b-4864-fb02-06d1dd890301"
      },
      "execution_count": 7,
      "outputs": [
        {
          "output_type": "execute_result",
          "data": {
            "text/plain": [
              "array([ 1.        , -0.6       , -0.13333333])"
            ]
          },
          "metadata": {},
          "execution_count": 7
        }
      ]
    },
    {
      "cell_type": "markdown",
      "source": [
        "$x_i=( b_i - \\sum_{i=j+1}^{n}a_{ij}x_j )  / a_{ii}$"
      ],
      "metadata": {
        "id": "caKvEwhBgMiN"
      }
    },
    {
      "cell_type": "code",
      "source": [
        "import numpy as np\n",
        "\n",
        "def SustitucionAtras(Mat, b):\n",
        "    \"\"\"\n",
        "    Realiza la sustitución hacia atrás para resolver un sistema de ecuaciones lineales\n",
        "    representado por una matriz triangular superior.\n",
        "\n",
        "    Parámetros:\n",
        "    -----------\n",
        "    Mat : numpy.ndarray\n",
        "        Una matriz triangular superior de tamaño n x n.\n",
        "    b : numpy.ndarray\n",
        "        Un vector de términos independientes de tamaño n.\n",
        "\n",
        "    Retorna:\n",
        "    --------\n",
        "    x : numpy.ndarray\n",
        "        Un vector solución de tamaño n que satisface la ecuación Mat @ x = b.\n",
        "\n",
        "    Descripción:\n",
        "    ------------\n",
        "    Esta función resuelve un sistema de ecuaciones lineales de la forma Mat @ x = b,\n",
        "    donde Mat es una matriz triangular superior. Utiliza el método de sustitución hacia atrás,\n",
        "    comenzando desde la última fila de la matriz y avanzando hacia la primera.\n",
        "\n",
        "    Ejemplo:\n",
        "    --------\n",
        "    >>> Mat = np.array([[3, 2, 1],\n",
        "    ...                 [0, 2, 1],\n",
        "    ...                 [0, 0, 1]])\n",
        "    >>> b = np.array([6, 4, 1])\n",
        "    >>> SustitucionAtras(Mat, b)\n",
        "    array([1., 1., 1.])\n",
        "    \"\"\"\n",
        "    n = Mat.shape[0]\n",
        "    x = np.zeros(n)\n",
        "\n",
        "    for i in range(n-1, -1, -1):\n",
        "        SumCum = 0.0\n",
        "        for j in range(i+1, n):\n",
        "            SumCum += Mat[i, j] * x[j]\n",
        "        x[i] = (b[i] - SumCum) / Mat[i, i]\n",
        "\n",
        "    return x"
      ],
      "metadata": {
        "id": "knFs_Gs-jsTe"
      },
      "execution_count": 8,
      "outputs": []
    },
    {
      "cell_type": "code",
      "source": [
        "SustitucionAtras(MTS,bb)"
      ],
      "metadata": {
        "colab": {
          "base_uri": "https://localhost:8080/"
        },
        "id": "vz4PiUo_h2Ym",
        "outputId": "4115063c-c9f4-4644-882a-2a32a8956029"
      },
      "execution_count": 9,
      "outputs": [
        {
          "output_type": "execute_result",
          "data": {
            "text/plain": [
              "array([0.53333333, 0.06666667, 0.11111111])"
            ]
          },
          "metadata": {},
          "execution_count": 9
        }
      ]
    },
    {
      "cell_type": "code",
      "source": [
        "LA.solve(MTS,bb)"
      ],
      "metadata": {
        "colab": {
          "base_uri": "https://localhost:8080/"
        },
        "id": "mvhX7KKDiFVK",
        "outputId": "ee7d324f-187c-4e6a-d040-f106f5031f32"
      },
      "execution_count": 10,
      "outputs": [
        {
          "output_type": "execute_result",
          "data": {
            "text/plain": [
              "array([0.53333333, 0.06666667, 0.11111111])"
            ]
          },
          "metadata": {},
          "execution_count": 10
        }
      ]
    },
    {
      "cell_type": "code",
      "source": [],
      "metadata": {
        "id": "QhEuF8b6iPo6"
      },
      "execution_count": 10,
      "outputs": []
    }
  ]
}