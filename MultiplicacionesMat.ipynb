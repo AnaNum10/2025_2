{
  "nbformat": 4,
  "nbformat_minor": 0,
  "metadata": {
    "colab": {
      "provenance": [],
      "authorship_tag": "ABX9TyPBJoYeZdmxogkwhhPFXM0n",
      "include_colab_link": true
    },
    "kernelspec": {
      "name": "python3",
      "display_name": "Python 3"
    },
    "language_info": {
      "name": "python"
    }
  },
  "cells": [
    {
      "cell_type": "markdown",
      "metadata": {
        "id": "view-in-github",
        "colab_type": "text"
      },
      "source": [
        "<a href=\"https://colab.research.google.com/github/AnaNum10/2025_2/blob/main/MultiplicacionesMat.ipynb\" target=\"_parent\"><img src=\"https://colab.research.google.com/assets/colab-badge.svg\" alt=\"Open In Colab\"/></a>"
      ]
    },
    {
      "cell_type": "markdown",
      "source": [
        "#Multiplicación matriz vector"
      ],
      "metadata": {
        "id": "H97Yr1DKS4o6"
      }
    },
    {
      "cell_type": "code",
      "source": [
        "import numpy as np"
      ],
      "metadata": {
        "id": "ksYir4qhS5fe"
      },
      "execution_count": 1,
      "outputs": []
    },
    {
      "cell_type": "code",
      "source": [
        "n=5\n",
        "m=6\n",
        "#A=n*[n*[1]]\n",
        "A=np.ones((m,n))\n",
        "b=np.ones(n)\n",
        "A.shape"
      ],
      "metadata": {
        "colab": {
          "base_uri": "https://localhost:8080/"
        },
        "id": "F81blytpU2tM",
        "outputId": "7d3fa80e-45d3-4e20-f909-46d8005f506e"
      },
      "execution_count": 2,
      "outputs": [
        {
          "output_type": "execute_result",
          "data": {
            "text/plain": [
              "(6, 5)"
            ]
          },
          "metadata": {},
          "execution_count": 2
        }
      ]
    },
    {
      "cell_type": "code",
      "source": [
        "import numpy as np\n",
        "\n",
        "def MatVec(Mat, vec):\n",
        "    \"\"\"\n",
        "    Realiza la multiplicación de una matriz por un vector.\n",
        "\n",
        "    Parámetros:\n",
        "    -----------\n",
        "    Mat : numpy.ndarray\n",
        "        Una matriz bidimensional de forma (n, m), donde 'n' es el número de filas\n",
        "        y 'm' es el número de columnas.\n",
        "    vec : numpy.ndarray\n",
        "        Un vector unidimensional de forma (m,), donde 'm' debe coincidir con el\n",
        "        número de columnas de la matriz.\n",
        "\n",
        "    Retorna:\n",
        "    --------\n",
        "    numpy.ndarray\n",
        "        Un vector unidimensional de forma (n,) que representa el resultado de\n",
        "        la multiplicación de la matriz por el vector.\n",
        "\n",
        "    Ejemplo:\n",
        "    --------\n",
        "    >>> Mat = np.array([[1, 2, 3], [4, 5, 6], [7, 8, 9]])\n",
        "    >>> vec = np.array([1, 0, 2])\n",
        "    >>> MatVec(Mat, vec)\n",
        "    array([ 7., 16., 25.])\n",
        "    \"\"\"\n",
        "    # Inicializa un vector de ceros con la misma cantidad de filas que la matriz Mat\n",
        "    Mv = np.zeros(Mat.shape[0])\n",
        "\n",
        "    # Itera sobre cada fila de la matriz\n",
        "    for ren in range(Mat.shape[0]):\n",
        "        # Itera sobre cada columna de la matriz\n",
        "        for col in range(Mat.shape[1]):\n",
        "            # Realiza la multiplicación de la fila actual de la matriz por el vector\n",
        "            Mv[ren] += Mat[ren, col] * vec[col]\n",
        "\n",
        "    # Devuelve el vector resultante\n",
        "    return Mv\n"
      ],
      "metadata": {
        "id": "wEwFK2WEVCTq"
      },
      "execution_count": 3,
      "outputs": []
    },
    {
      "cell_type": "code",
      "source": [
        "MatVec(A,b)"
      ],
      "metadata": {
        "colab": {
          "base_uri": "https://localhost:8080/"
        },
        "id": "ByMJCKWAXzM8",
        "outputId": "cf9b9810-1912-483e-f85f-eb229df2f6f4"
      },
      "execution_count": 4,
      "outputs": [
        {
          "output_type": "execute_result",
          "data": {
            "text/plain": [
              "array([5., 5., 5., 5., 5., 5.])"
            ]
          },
          "metadata": {},
          "execution_count": 4
        }
      ]
    },
    {
      "cell_type": "markdown",
      "source": [
        "MUltiplicacion Matriz Matriz"
      ],
      "metadata": {
        "id": "Cow6B0ixbRDA"
      }
    },
    {
      "cell_type": "code",
      "source": [
        "A=np.ones((m,n))\n",
        "B=np.ones((n,m))\n",
        "A.shape,B.shape"
      ],
      "metadata": {
        "colab": {
          "base_uri": "https://localhost:8080/"
        },
        "id": "YTALcbtFYN3q",
        "outputId": "cc8acf0e-e424-423f-d1f8-f610c426a59e"
      },
      "execution_count": 5,
      "outputs": [
        {
          "output_type": "execute_result",
          "data": {
            "text/plain": [
              "((6, 5), (5, 6))"
            ]
          },
          "metadata": {},
          "execution_count": 5
        }
      ]
    },
    {
      "cell_type": "code",
      "source": [
        "import numpy as np\n",
        "\n",
        "def MultMat(Mat1, Mat2):\n",
        "    \"\"\"\n",
        "    Realiza la multiplicación de dos matrices.\n",
        "\n",
        "    Parámetros:\n",
        "    -----------\n",
        "    Mat1 : numpy.ndarray\n",
        "        Una matriz bidimensional de forma (n, m), donde 'n' es el número de filas\n",
        "        y 'm' es el número de columnas.\n",
        "    Mat2 : numpy.ndarray\n",
        "        Una matriz bidimensional de forma (m, p), donde 'm' es el número de filas\n",
        "        (debe coincidir con el número de columnas de Mat1) y 'p' es el número de\n",
        "        columnas.\n",
        "\n",
        "    Retorna:\n",
        "    --------\n",
        "    numpy.ndarray\n",
        "        Una matriz bidimensional de forma (n, p) que representa el resultado de\n",
        "        la multiplicación de Mat1 por Mat2.\n",
        "\n",
        "    Ejemplo:\n",
        "    --------\n",
        "    >>> Mat1 = np.array([[1, 2, 3], [4, 5, 6]])\n",
        "    >>> Mat2 = np.array([[7, 8], [9, 10], [11, 12]])\n",
        "    >>> MultMat(Mat1, Mat2)\n",
        "    array([[ 58.,  64.],\n",
        "           [139., 154.]])\n",
        "    \"\"\"\n",
        "    # Inicializa una matriz de ceros con las dimensiones adecuadas\n",
        "    Mat3 = np.zeros((Mat1.shape[0], Mat2.shape[1]))\n",
        "\n",
        "    # Itera sobre cada fila de la primera matriz\n",
        "    for row in range(Mat1.shape[0]):\n",
        "        # Itera sobre cada columna de la segunda matriz\n",
        "        for col in range(Mat2.shape[1]):\n",
        "            # Realiza la multiplicación y suma los productos\n",
        "            for aux in range(Mat2.shape[0]):\n",
        "                Mat3[row, col] += Mat1[row, aux] * Mat2[aux, col]\n",
        "\n",
        "    # Devuelve la matriz resultante\n",
        "    return Mat3"
      ],
      "metadata": {
        "id": "LsOZ-DKPbcdS"
      },
      "execution_count": 6,
      "outputs": []
    },
    {
      "cell_type": "code",
      "source": [
        "MultMat(A,B)"
      ],
      "metadata": {
        "colab": {
          "base_uri": "https://localhost:8080/"
        },
        "id": "tPXrycb3dB8F",
        "outputId": "73e6401f-70d8-4125-9a22-d0c8af0873dd"
      },
      "execution_count": 7,
      "outputs": [
        {
          "output_type": "execute_result",
          "data": {
            "text/plain": [
              "array([[5., 5., 5., 5., 5., 5.],\n",
              "       [5., 5., 5., 5., 5., 5.],\n",
              "       [5., 5., 5., 5., 5., 5.],\n",
              "       [5., 5., 5., 5., 5., 5.],\n",
              "       [5., 5., 5., 5., 5., 5.],\n",
              "       [5., 5., 5., 5., 5., 5.]])"
            ]
          },
          "metadata": {},
          "execution_count": 7
        }
      ]
    },
    {
      "cell_type": "code",
      "source": [],
      "metadata": {
        "id": "WF2viuQhdEwl"
      },
      "execution_count": 7,
      "outputs": []
    }
  ]
}